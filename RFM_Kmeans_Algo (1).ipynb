{
  "nbformat": 4,
  "nbformat_minor": 0,
  "metadata": {
    "colab": {
      "provenance": []
    },
    "kernelspec": {
      "name": "python3",
      "display_name": "Python 3"
    },
    "language_info": {
      "name": "python"
    }
  },
  "cells": [
    {
      "cell_type": "code",
      "source": [
        "#Dependancies\n",
        "import pandas as pd\n",
        "import numpy as np\n",
        "from sklearn.cluster import KMeans\n",
        "\n",
        "#data read from CSV\n",
        "columns = ['customer_no','create_dt','max_purchase_date','recency','frequency','revenue','subscriber']\n",
        "df = pd.read_csv('/content/rmf_data.csv',names= columns)\n",
        "\n",
        "#Scaling and standardisation\n",
        "df['recency'][df['recency']< 0] = df['recency'].mean()\n",
        "df.loc[df['frequency'] > 180, 'frequency'] = np.nan\n",
        "df['frequency'] = df['frequency'].interpolate()\n",
        "df.loc[df['revenue'] > 200000, 'revenue'] = np.nan\n",
        "df['revenue'] = df['revenue'].interpolate()\n",
        "df['revenue'] = df['revenue'].div(10)\n",
        "mean_recency = df['recency'].mean()\n",
        "df['recency'].fillna(mean_recency, inplace=True)\n",
        "\n",
        "#Clustering\n",
        "recency_data = df[['recency']]\n",
        "kmeans = KMeans(n_clusters=3)\n",
        "kmeans.fit(recency_data)\n",
        "df['recency_cluster'] = kmeans.labels_\n",
        "\n",
        "revenue_data = df[['revenue']]\n",
        "kmeans = KMeans(n_clusters=3)\n",
        "kmeans.fit(revenue_data)\n",
        "df['revenue_cluster'] = kmeans.labels_\n",
        "\n",
        "frequency_data = df[['frequency']]\n",
        "kmeans = KMeans(n_clusters=3)\n",
        "kmeans.fit(frequency_data)\n",
        "df['frequency_cluster'] = kmeans.labels_\n",
        "\n",
        "# Calculate the overall_score\n",
        "df['overall_score'] = df['recency_cluster'] + df['frequency_cluster'] + df['revenue_cluster']\n",
        "\n",
        "# Update 'overall_score' based on conditions\n",
        "df.loc[(df['overall_score'] == 2) & (df['recency'] >= 400), 'overall_score'] = 1\n",
        "df.loc[(df['overall_score'] == 3) & (df['recency'] >= 400), 'overall_score'] = 1\n",
        "df.loc[(df['overall_score'] == 5) & (df['revenue'] >= 7100.00), 'overall_score'] = 6\n",
        "df.loc[(df['overall_score'] == 1) & (df['recency'] >= 400) & (df['recency'] <= 1000), 'overall_score'] = 0\n",
        "df.loc[(df['overall_score'] == 4) & (df['revenue'] >= 2000.00), 'overall_score'] = 5\n",
        "df.loc[(df['overall_score'] == 5) & (df['recency'] >= 1000), 'overall_score'] = 1\n",
        "df.loc[(df['overall_score'] == 5) & (df['recency'] >= 400) & (df['recency'] <= 1000), 'overall_score'] = 0\n",
        "\n",
        "\n",
        "#Add lables\n",
        "df.loc[df['overall_score']==0,'Segment'] = 'Slipping'\n",
        "df.loc[df['overall_score']==1,'Segment'] = 'Lost Touch'\n",
        "df.loc[df['overall_score']==2,'Segment'] = 'New Customer'\n",
        "df.loc[df['overall_score']==3,'Segment'] = 'Faithful'\n",
        "df.loc[df['overall_score']==4,'Segment'] = 'Loyal Purchaser'\n",
        "df.loc[df['overall_score']==5,'Segment'] = 'Affluent'\n",
        "df.loc[df['overall_score']==6,'Segment'] = 'Top Tier'\n",
        "\n",
        "#CSV export\n",
        "export_df = df[['customer_no','overall_score','Segment']]\n",
        "export_df.to_csv('/content/MSO_RFM_SEGMENT.csv')"
      ],
      "metadata": {
        "id": "t841PHelRhUu"
      },
      "execution_count": null,
      "outputs": []
    }
  ]
}